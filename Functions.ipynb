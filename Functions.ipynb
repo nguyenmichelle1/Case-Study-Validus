{
 "cells": [
  {
   "cell_type": "markdown",
   "metadata": {},
   "source": [
    "# Functions"
   ]
  },
  {
   "cell_type": "markdown",
   "metadata": {},
   "source": [
    "1. Function returning its Value V, given v and the strike K of a European put option on the asset S, expiring after N periods."
   ]
  },
  {
   "cell_type": "code",
   "execution_count": 76,
   "metadata": {},
   "outputs": [],
   "source": [
    "def put_option(S0, v, K, N, p = 0.5):\n",
    "    \"\"\"\n",
    "    Valuation of a European put option on asset S\n",
    "    Parameters:\n",
    "    - S: Initial price of asset \n",
    "    - v: risk free rate\n",
    "    - K: Strike price\n",
    "    - N: Periods\n",
    "        \n",
    "    Returns: Value of option\n",
    "\n",
    "    \"\"\"\n",
    "    ## To calculate todays prices we use risk neutral probabilities under risk neutral measure\n",
    "    u = (1+v) # up state\n",
    "    d = (1-v) # down state\n",
    "        \n",
    "    # Calculate the asset prices at each period\n",
    "    S = [S0 * u ** j * d ** (N - j) for j in range(N + 1)]\n",
    "\n",
    "    # Calculate the option value\n",
    "    V = [max(K - S[j], 0) for j in range(N + 1)] # value of put is strike - stock price\n",
    "\n",
    "   # Calculate option values at earlier periods in the tree working backwards\n",
    "    for n in range (N-1, -1, -1):\n",
    "        V = [p * (max(K-S[k],0) + (1-p) * (max(K-S[k+1],0))) for k in range(n+1)]\n",
    "     \n",
    "    # return value at time 0\n",
    "    return V[0]"
   ]
  },
  {
   "cell_type": "markdown",
   "metadata": {},
   "source": [
    "1. A function which, given the strike K and value V of a European put option on the asset S, expiring after N periods, calibrates v to match this price."
   ]
  },
  {
   "cell_type": "code",
   "execution_count": 81,
   "metadata": {},
   "outputs": [],
   "source": [
    "def calibrate_v(K, V, N, S0):\n",
    "    \"\"\"\n",
    "    Funtion that calibrated v to match price V\n",
    "\n",
    "    Parameters:\n",
    "    - S0: Initial price of asset \n",
    "    - V: value of option\n",
    "    - K: Strike price\n",
    "    - N: Periods\n",
    "        \n",
    "    Returns: Calibrated value of v\n",
    "\n",
    "    \"\"\"\n",
    "    # Define the parameters for the multiperiod binomial asset model\n",
    "    a = 0.0001  # lower bound of v\n",
    "    b = 0.9999  # upper bound of v\n",
    "    tol = 0.0001  # tolerance for convergence\n",
    "\n",
    "    # Define the function V to be solved\n",
    "    def f(v):\n",
    "        u = 1 + v\n",
    "        d = 1 - v\n",
    "        S = [S0 * u ** j * d ** (N - j) for j in range(N + 1)]\n",
    "        V_cal = [max(K - S[j], 0) for j in range(N + 1)]\n",
    "        for i in range(N - 1, -1, -1):\n",
    "            for j in range(i + 1):\n",
    "                V_cal[j] = (p * V_cal[j] + (1 - p) * V_cal[j + 1]) / (1 + r)\n",
    "                S[j] = (1 + v) * S[j]\n",
    "            del V_cal[-1]\n",
    "        return V_cal[0] - V\n",
    "\n",
    "    # Use binary search method to find the value of v that matches the option value\n",
    "    while b - a > tol:\n",
    "        c = (a + b) / 2\n",
    "        if f(c) == 0:\n",
    "            return c\n",
    "        elif f(a) * f(c) < 0:\n",
    "            b = c\n",
    "        else:\n",
    "            a = c\n",
    "\n",
    "    return (a + b) / 2"
   ]
  },
  {
   "cell_type": "markdown",
   "metadata": {},
   "source": [
    "3. A function which, given v, returns the expectation of max S_j"
   ]
  },
  {
   "cell_type": "code",
   "execution_count": 88,
   "metadata": {},
   "outputs": [],
   "source": [
    "def maxS(v, N):\n",
    "    \"\"\"\n",
    "    Calculate the expectation of the maximum value among a series of prices sj given parameter v.\n",
    "\n",
    "    Parameters:\n",
    "    - v: value of option\n",
    "    - N: Periods\n",
    "        \n",
    "    Returns: Maximum S\n",
    "\n",
    "    \"\"\"\n",
    "    # Define the parameters for the multiperiod binomial asset model\n",
    "    S0 = 1.28065  # initial price of the asset\n",
    "    u = 1 + v  # up factor\n",
    "    d = 1 - v  # down factor\n",
    "    p = 0.5  # risk-neutral probability\n",
    "\n",
    "    # Calculate the asset prices at each period\n",
    "    S = [S0 * u ** j * d ** (N - j) for j in range(N + 1)]\n",
    "\n",
    "    # Calculate the maximum asset value over all periods\n",
    "    max_S = max(S)\n",
    "\n",
    "    # Calculate the expectation of the maximum asset value\n",
    "    exp_max_S = max_S\n",
    "    \n",
    "    for i in range(N):\n",
    "        exp_max_S = (p * max(u ** (N - i - 1) * S[i], d ** (N - i - 1) * S[i + 1]) +\n",
    "                     (1 - p) * exp_max_S) / (1 + r)\n",
    "\n",
    "    return exp_max_S\n",
    "\n"
   ]
  },
  {
   "cell_type": "code",
   "execution_count": null,
   "metadata": {},
   "outputs": [],
   "source": [
    "def calculate_put_option_payoff(S, K):\n",
    "    \"\"\"\n",
    "    Calculates the payoff of a European put option.\n",
    "\n",
    "    Args:\n",
    "    S (list): List of prices of the underlying asset at each period.\n",
    "    K (float): Strike price of the put option.\n",
    "\n",
    "    Returns:\n",
    "    list: Payoff of the put option at each period.\n",
    "    \"\"\"\n",
    "    option_payoff = [max(K - s, 0) for s in S]\n",
    "    return option_payoff"
   ]
  }
 ],
 "metadata": {
  "kernelspec": {
   "display_name": "Python 3",
   "language": "python",
   "name": "python3"
  },
  "language_info": {
   "codemirror_mode": {
    "name": "ipython",
    "version": 3
   },
   "file_extension": ".py",
   "mimetype": "text/x-python",
   "name": "python",
   "nbconvert_exporter": "python",
   "pygments_lexer": "ipython3",
   "version": "3.9.6"
  }
 },
 "nbformat": 4,
 "nbformat_minor": 2
}
