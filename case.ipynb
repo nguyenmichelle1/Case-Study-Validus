{
 "cells": [
  {
   "cell_type": "markdown",
   "id": "cb0bcbe4",
   "metadata": {},
   "source": [
    "# Qantitative Analyst Case Study\n",
    "## Validus"
   ]
  },
  {
   "cell_type": "markdown",
   "id": "d9c376b0",
   "metadata": {},
   "source": [
    "#### Assumptions\n",
    "Consider a multiperiod binomial asset model for an FX spot rate S with N periods. Under this particular model, we have the following assumptions:\n",
    "\n",
    "· the initial price of the asset is 𝑆0=1.28065;\n",
    "\n",
    "· under the risk-neutral measure, the asset price at period j is 𝑆𝑗=(1+𝑣)𝑆𝑗−1 with probability ½, and 𝑆𝑗=(1−𝑣)𝑆𝑗−1 with probability ½, with 0<𝑣<1; and\n",
    "\n",
    "· domestic and foreign interest rates associated with borrowing/lending a currency for a single time period is 0."
   ]
  },
  {
   "cell_type": "markdown",
   "id": "f71380c5",
   "metadata": {},
   "source": [
    "The initial price of the asset is 1.28065"
   ]
  },
  {
   "cell_type": "markdown",
   "id": "9d2dc5ee",
   "metadata": {},
   "source": [
    "Under the risk neutral meausre, the asseet price at period j is S_j = (1+v) * S_(j-1) and S_j =(1-v) * S_(j-1), each with 0.5 probability. \n",
    "\n",
    "Under these asssumption, there is at period j an up and down scenarios which can be denoted as:\n",
    "u = (1+v)\n",
    "d = (1-v)\n",
    "each with 0.5 probability. \n",
    "\n",
    "S_j = (S_(j-1) * (u * 0.5)) + (S_(j-1) * (d * 0.5))"
   ]
  },
  {
   "cell_type": "markdown",
   "id": "b12faed1",
   "metadata": {},
   "source": [
    "1. Implement a function which, given v and the strike K of a European put option on the asset S, expiring after N periods, returns its value V."
   ]
  },
  {
   "cell_type": "code",
   "execution_count": 402,
   "id": "1bf5d6b6",
   "metadata": {},
   "outputs": [],
   "source": [
    "%run Functions.ipynb\n",
    "import pandas as pd\n",
    "import numpy as np\n",
    "from scipy.stats import norm\n",
    "from datetime import date\n",
    "from numpy_financial import irr\n"
   ]
  },
  {
   "cell_type": "code",
   "execution_count": 403,
   "id": "21fa5631",
   "metadata": {},
   "outputs": [],
   "source": [
    "# input\n",
    "N = 10\n",
    "v = 0.05\n",
    "S0 = 1.28065\n",
    "K = S0"
   ]
  },
  {
   "cell_type": "code",
   "execution_count": 381,
   "id": "42929024",
   "metadata": {},
   "outputs": [],
   "source": [
    "u = (1+v)\n",
    "d = (1-v)\n",
    "p = 0.5"
   ]
  },
  {
   "cell_type": "code",
   "execution_count": 404,
   "id": "9951bcd2",
   "metadata": {},
   "outputs": [
    {
     "name": "stdout",
     "output_type": "stream",
     "text": [
      "The value of the put option is 0.36522993140918225\n"
     ]
    }
   ],
   "source": [
    "V = put_option(S0 = S0, \n",
    "               v = v, \n",
    "               K = K, \n",
    "               N = N, \n",
    "               p = p)\n",
    "print(f'The value of the put option is', V)"
   ]
  },
  {
   "cell_type": "code",
   "execution_count": 405,
   "id": "7cf3f367",
   "metadata": {},
   "outputs": [
    {
     "data": {
      "text/plain": [
       "0.00016102294921875"
      ]
     },
     "execution_count": 405,
     "metadata": {},
     "output_type": "execute_result"
    }
   ],
   "source": [
    "# Calibrate v to match the given option price\n",
    "v = calibrate_v(K = K, V = V, N = 10, S0 = S0)\n",
    "v"
   ]
  },
  {
   "cell_type": "code",
   "execution_count": 386,
   "id": "e5b50bff",
   "metadata": {},
   "outputs": [
    {
     "data": {
      "text/plain": [
       "1.0214282015787468"
      ]
     },
     "execution_count": 386,
     "metadata": {},
     "output_type": "execute_result"
    }
   ],
   "source": [
    "max_s0_expectation(v = v, num_paths = 1000)"
   ]
  },
  {
   "cell_type": "markdown",
   "id": "5f812221",
   "metadata": {},
   "source": [
    "4. Using the GBPUSD FX spot rate paths, derived from the above binomial model for 𝑁=10 (Δτ=0.5 years),𝑣=0.05, convert the GBP cashflows (provided in the cashflow data spreadsheet) into fund currency (USD) and calculate the IRR (internal rate of return) for each of the paths. Plot the distribution of the IRR values."
   ]
  },
  {
   "cell_type": "code",
   "execution_count": 388,
   "id": "426da658",
   "metadata": {},
   "outputs": [],
   "source": [
    "# load excel sheet with cash flow information\n",
    "file_name =  'Quantitative_Analyst_Case_Study_2024_Cashflow_Model.xlsx'\n",
    "df = pd.read_excel(file_name)\n"
   ]
  },
  {
   "cell_type": "code",
   "execution_count": 202,
   "id": "b938ea96",
   "metadata": {},
   "outputs": [
    {
     "data": {
      "text/html": [
       "<div>\n",
       "<style scoped>\n",
       "    .dataframe tbody tr th:only-of-type {\n",
       "        vertical-align: middle;\n",
       "    }\n",
       "\n",
       "    .dataframe tbody tr th {\n",
       "        vertical-align: top;\n",
       "    }\n",
       "\n",
       "    .dataframe thead th {\n",
       "        text-align: right;\n",
       "    }\n",
       "</style>\n",
       "<table border=\"1\" class=\"dataframe\">\n",
       "  <thead>\n",
       "    <tr style=\"text-align: right;\">\n",
       "      <th></th>\n",
       "      <th>Time</th>\n",
       "      <th>Fund</th>\n",
       "      <th>Cashflow Type</th>\n",
       "      <th>Cashflow Amount (in Local Asset Currecny)</th>\n",
       "      <th>Local Asset Currency</th>\n",
       "      <th>Fund Currency</th>\n",
       "      <th>Base Case IRR</th>\n",
       "    </tr>\n",
       "  </thead>\n",
       "  <tbody>\n",
       "    <tr>\n",
       "      <th>0</th>\n",
       "      <td>2024-03-31</td>\n",
       "      <td>Validus V</td>\n",
       "      <td>Equity</td>\n",
       "      <td>-100000000</td>\n",
       "      <td>GBP</td>\n",
       "      <td>USD</td>\n",
       "      <td>0.149925</td>\n",
       "    </tr>\n",
       "    <tr>\n",
       "      <th>1</th>\n",
       "      <td>2025-03-31</td>\n",
       "      <td>Validus V</td>\n",
       "      <td>Proceeds</td>\n",
       "      <td>15000000</td>\n",
       "      <td>GBP</td>\n",
       "      <td>USD</td>\n",
       "      <td>NaN</td>\n",
       "    </tr>\n",
       "    <tr>\n",
       "      <th>2</th>\n",
       "      <td>2026-03-31</td>\n",
       "      <td>Validus V</td>\n",
       "      <td>Proceeds</td>\n",
       "      <td>15000000</td>\n",
       "      <td>GBP</td>\n",
       "      <td>USD</td>\n",
       "      <td>NaN</td>\n",
       "    </tr>\n",
       "    <tr>\n",
       "      <th>3</th>\n",
       "      <td>2027-03-31</td>\n",
       "      <td>Validus V</td>\n",
       "      <td>Proceeds</td>\n",
       "      <td>15000000</td>\n",
       "      <td>GBP</td>\n",
       "      <td>USD</td>\n",
       "      <td>NaN</td>\n",
       "    </tr>\n",
       "    <tr>\n",
       "      <th>4</th>\n",
       "      <td>2028-03-31</td>\n",
       "      <td>Validus V</td>\n",
       "      <td>Proceeds</td>\n",
       "      <td>15000000</td>\n",
       "      <td>GBP</td>\n",
       "      <td>USD</td>\n",
       "      <td>NaN</td>\n",
       "    </tr>\n",
       "    <tr>\n",
       "      <th>5</th>\n",
       "      <td>2029-03-31</td>\n",
       "      <td>Validus V</td>\n",
       "      <td>Proceeds</td>\n",
       "      <td>115000000</td>\n",
       "      <td>GBP</td>\n",
       "      <td>USD</td>\n",
       "      <td>NaN</td>\n",
       "    </tr>\n",
       "  </tbody>\n",
       "</table>\n",
       "</div>"
      ],
      "text/plain": [
       "        Time       Fund Cashflow Type  \\\n",
       "0 2024-03-31  Validus V        Equity   \n",
       "1 2025-03-31  Validus V      Proceeds   \n",
       "2 2026-03-31  Validus V      Proceeds   \n",
       "3 2027-03-31  Validus V      Proceeds   \n",
       "4 2028-03-31  Validus V      Proceeds   \n",
       "5 2029-03-31  Validus V      Proceeds   \n",
       "\n",
       "   Cashflow Amount (in Local Asset Currecny) Local Asset Currency  \\\n",
       "0                                 -100000000                  GBP   \n",
       "1                                   15000000                  GBP   \n",
       "2                                   15000000                  GBP   \n",
       "3                                   15000000                  GBP   \n",
       "4                                   15000000                  GBP   \n",
       "5                                  115000000                  GBP   \n",
       "\n",
       "  Fund Currency  Base Case IRR  \n",
       "0           USD       0.149925  \n",
       "1           USD            NaN  \n",
       "2           USD            NaN  \n",
       "3           USD            NaN  \n",
       "4           USD            NaN  \n",
       "5           USD            NaN  "
      ]
     },
     "execution_count": 202,
     "metadata": {},
     "output_type": "execute_result"
    }
   ],
   "source": [
    "df"
   ]
  },
  {
   "cell_type": "code",
   "execution_count": 361,
   "id": "0a7aad4c",
   "metadata": {},
   "outputs": [],
   "source": [
    "# Function to simulate GBPUSD FX spot rate paths\n",
    "def simulate_fx_spot_rate_paths(N, v, delta_tau, num_paths):\n",
    "    u = 1 + v\n",
    "    d = 1 - v\n",
    "    \n",
    "    # Initialize array to store simulated FX spot rate paths\n",
    "    fx_spot_rate_paths = np.zeros((num_paths, N+1))\n",
    "    \n",
    "    # Simulate FX spot rate paths\n",
    "    for i in range(num_paths):\n",
    "        fx_spot_rate = 1.28065  # Initial GBPUSD FX spot rate\n",
    "        for j in range(N+1):\n",
    "            fx_spot_rate_paths[i][j] = fx_spot_rate\n",
    "            fx_spot_rate *= np.random.choice([u, d], p=[0.5, 0.5])\n",
    "    \n",
    "    return fx_spot_rate_paths\n"
   ]
  },
  {
   "cell_type": "code",
   "execution_count": 389,
   "id": "de671bc0",
   "metadata": {},
   "outputs": [],
   "source": [
    "# Given parameters\n",
    "N = 10  # Number of periods\n",
    "v = 0.05  # Price movement factor\n",
    "delta_tau = 0.5  # Time interval in years\n",
    "num_paths = 6  # Number of simulated paths\n",
    "\n",
    "# Simulate FX spot rate paths\n",
    "fx_spot_rate_paths = simulate_fx_spot_rate_paths(N, v, delta_tau, num_paths)"
   ]
  },
  {
   "cell_type": "code",
   "execution_count": 390,
   "id": "666653ff",
   "metadata": {},
   "outputs": [],
   "source": [
    "results = [df['Base Case IRR'][0]]\n",
    "df['time'] = df.index\n"
   ]
  },
  {
   "cell_type": "code",
   "execution_count": 391,
   "id": "b369925f",
   "metadata": {},
   "outputs": [
    {
     "name": "stderr",
     "output_type": "stream",
     "text": [
      "/var/folders/gc/3nx2jxd91p9crs2vh_4k6ldw0000gn/T/ipykernel_34656/2406110382.py:5: UserWarning: You are merging on int and float columns where the float values are not equal to their int representation.\n",
      "  inner_join_df = pd.merge(df, df1, on='time', how='inner')\n",
      "/var/folders/gc/3nx2jxd91p9crs2vh_4k6ldw0000gn/T/ipykernel_34656/2406110382.py:5: UserWarning: You are merging on int and float columns where the float values are not equal to their int representation.\n",
      "  inner_join_df = pd.merge(df, df1, on='time', how='inner')\n",
      "/var/folders/gc/3nx2jxd91p9crs2vh_4k6ldw0000gn/T/ipykernel_34656/2406110382.py:5: UserWarning: You are merging on int and float columns where the float values are not equal to their int representation.\n",
      "  inner_join_df = pd.merge(df, df1, on='time', how='inner')\n",
      "/var/folders/gc/3nx2jxd91p9crs2vh_4k6ldw0000gn/T/ipykernel_34656/2406110382.py:5: UserWarning: You are merging on int and float columns where the float values are not equal to their int representation.\n",
      "  inner_join_df = pd.merge(df, df1, on='time', how='inner')\n",
      "/var/folders/gc/3nx2jxd91p9crs2vh_4k6ldw0000gn/T/ipykernel_34656/2406110382.py:5: UserWarning: You are merging on int and float columns where the float values are not equal to their int representation.\n",
      "  inner_join_df = pd.merge(df, df1, on='time', how='inner')\n",
      "/var/folders/gc/3nx2jxd91p9crs2vh_4k6ldw0000gn/T/ipykernel_34656/2406110382.py:5: UserWarning: You are merging on int and float columns where the float values are not equal to their int representation.\n",
      "  inner_join_df = pd.merge(df, df1, on='time', how='inner')\n"
     ]
    }
   ],
   "source": [
    "for i in df.index:\n",
    "    df1 = pd.DataFrame({'path': fx_spot_rate_paths[i],\n",
    "                        \"time\": np.arange(0, 5.5, 0.5)})\n",
    "    \n",
    "    inner_join_df = pd.merge(df, df1, on='time', how='inner')\n",
    "    cashflow = inner_join_df['Cashflow Amount (in Local Asset Currecny)']/inner_join_df['path']\n",
    "\n",
    "    irr_value = irr(cashflow)\n",
    "    results.append(irr_value)"
   ]
  },
  {
   "cell_type": "code",
   "execution_count": 392,
   "id": "109dd490",
   "metadata": {},
   "outputs": [
    {
     "data": {
      "text/plain": [
       "[0.14992492794990545,\n",
       " 0.15646072818930978,\n",
       " 0.1081323955639204,\n",
       " 0.19759520282256204,\n",
       " 0.1541881052146159,\n",
       " 0.17027404631050347,\n",
       " 0.20686417611526942]"
      ]
     },
     "execution_count": 392,
     "metadata": {},
     "output_type": "execute_result"
    }
   ],
   "source": [
    "results"
   ]
  },
  {
   "cell_type": "code",
   "execution_count": 397,
   "id": "08be8487",
   "metadata": {},
   "outputs": [
    {
     "data": {
      "image/png": "[encoded data removed]",
      "text/plain": [
       "<Figure size 640x480 with 1 Axes>"
      ]
     },
     "metadata": {},
     "output_type": "display_data"
    }
   ],
   "source": [
    "# Plot the values\n",
    "plt.plot(results, marker='o', linestyle='-')\n",
    "\n",
    "# Add labels and title\n",
    "plt.xlabel('Time')\n",
    "plt.ylabel('IRR')\n",
    "plt.title('IRR plot')\n",
    "\n",
    "# Show the plot\n",
    "plt.show()\n"
   ]
  },
  {
   "cell_type": "code",
   "execution_count": 80,
   "id": "1d55c318",
   "metadata": {},
   "outputs": [],
   "source": [
    "def generate_fx_spot_rate_paths(N, v, path, S0):\n",
    "    u = 1+v\n",
    "    d = 1-v\n",
    "    p = 0.5\n",
    "\n",
    "    # generate random numbers\n",
    "    np.random.seed(45)\n",
    "    num = np.random.rand(path, N)\n",
    "\n",
    "    # prices for each period\n",
    "    SN = S0 * np.cumprod(np.where(num>p, u, d), axis = 1)\n",
    "\n",
    "    # convert to FX rates\n",
    "    FX_Rates = SN/S0\n",
    "\n",
    "    return FX_Rates"
   ]
  },
  {
   "cell_type": "code",
   "execution_count": 98,
   "id": "399f8f29",
   "metadata": {},
   "outputs": [
    {
     "name": "stdout",
     "output_type": "stream",
     "text": [
      "[[1.05       1.1025     1.047375   0.99500625 0.94525594 0.89799314\n",
      "  0.85309348 0.81043881 0.76991687 0.80841271]\n",
      " [1.05       1.1025     1.157625   1.09974375 1.15473094 1.09699439\n",
      "  1.15184411 1.20943632 1.1489645  1.09151627]\n",
      " [1.05       0.9975     0.947625   0.90024375 0.85523156 0.81246998\n",
      "  0.85309348 0.81043881 0.85096075 0.80841271]\n",
      " [1.05       0.9975     1.047375   0.99500625 1.04475656 0.99251873\n",
      "  0.9428928  0.99003744 0.94053557 0.89350879]\n",
      " [1.05       0.9975     1.047375   0.99500625 0.94525594 0.99251873\n",
      "  1.04214467 0.99003744 1.03953931 0.98756234]\n",
      " [0.95       0.9025     0.947625   0.99500625 0.94525594 0.89799314\n",
      "  0.9428928  0.99003744 0.94053557 0.89350879]]\n"
     ]
    }
   ],
   "source": [
    "FX = generate_fx_spot_rate_paths(N = 10, v = 0.05, path = 6, S0 = S0)\n",
    "print(FX)"
   ]
  },
  {
   "cell_type": "markdown",
   "id": "72e14593",
   "metadata": {},
   "source": [
    "Assume we would like to buy a GBPUSD European put option to hedge our FX exposure. If the USD and GBP interest rates are 0% throughout the time horizon of the fund, calculate the option’s fair market value (premium) at trade date (t = 0). See the option details below:\n",
    "\n",
    "· Trade date: 31/03/2024\n",
    "\n",
    "· Expiry Date: 31/03/2029\n",
    "\n",
    "· Notional Amount: 100,000,000 GBP\n",
    "\n",
    "· Strike 𝐾=𝑆0=1.28065\n"
   ]
  },
  {
   "cell_type": "code",
   "execution_count": 338,
   "id": "c2f0dd84",
   "metadata": {},
   "outputs": [
    {
     "name": "stdout",
     "output_type": "stream",
     "text": [
      "The fair market value of the put option at time t = 0 is: 17060929.17246159 GBP\n"
     ]
    }
   ],
   "source": [
    "# Define the option parameters\n",
    "S0 = 1.28065  # spot price of GBPUSD on trade date\n",
    "K = S0  # strike price\n",
    "T = (date(2029, 3, 31) - date(2024, 3, 31)).days / 365  # time to expiry in years\n",
    "r = 0  # risk-free interest rate\n",
    "sigma = 0.15  # volatility of GBPUSD\n",
    "notional = 100000000 \n",
    "\n",
    "# Calculate the option value using the Black-Scholes model\n",
    "d1 = (np.log(S0 / K) + (r + 0.5 * sigma ** 2) * T) / (sigma * np.sqrt(T))\n",
    "d2 = d1 - sigma * np.sqrt(T)\n",
    "V = K * np.exp(-r * T) * norm.cdf(-d2) - S0 * norm.cdf(-d1)\n",
    "\n",
    "# Convert the option value to GBP\n",
    "premium = V * notional\n",
    "\n",
    "print(f\"The fair market value of the put option at time t = 0 is:\",premium, \"GBP\")"
   ]
  },
  {
   "cell_type": "markdown",
   "id": "a0292a1c",
   "metadata": {},
   "source": [
    "6. Calculate the IRR of the hedged portfolio, including the option premium payment you calculated in (5) and the option payoff. Plot the distribution of the hedged portfolio IRR values."
   ]
  },
  {
   "cell_type": "code",
   "execution_count": null,
   "id": "990079e3",
   "metadata": {},
   "outputs": [],
   "source": [
    "# Example cash flows (replace with actual cash flows)\n",
    "cashflows_hedged_portfolio = [-100, 50, 60, 70, 80, 90, 100]  # Include option premium payment\n",
    "cashflows_option_payoff = [0, -20, -30, -40, -50, -60, -70]  # Include option payoff\n",
    "\n",
    "# Calculate total cash flows for each period\n",
    "total_cashflows = [x + y for x, y in zip(cashflows_hedged_portfolio, cashflows_option_payoff)]\n",
    "\n",
    "# Calculate IRR of the total cash flows\n",
    "irr_value = irr(total_cashflows)\n",
    "\n",
    "print(\"IRR of the hedged portfolio:\", irr_value)"
   ]
  }
 ],
 "metadata": {
  "kernelspec": {
   "display_name": "Python 3 (ipykernel)",
   "language": "python",
   "name": "python3"
  },
  "language_info": {
   "codemirror_mode": {
    "name": "ipython",
    "version": 3
   },
   "file_extension": ".py",
   "mimetype": "text/x-python",
   "name": "python",
   "nbconvert_exporter": "python",
   "pygments_lexer": "ipython3",
   "version": "3.9.6"
  }
 },
 "nbformat": 4,
 "nbformat_minor": 5
}
