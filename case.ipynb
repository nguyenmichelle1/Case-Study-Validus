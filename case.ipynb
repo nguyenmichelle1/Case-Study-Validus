{
 "cells": [
  {
   "cell_type": "markdown",
   "id": "cb0bcbe4",
   "metadata": {},
   "source": [
    "# Qantitative Analyst Case Study\n",
    "## Validus"
   ]
  },
  {
   "cell_type": "markdown",
   "id": "d9c376b0",
   "metadata": {},
   "source": [
    "#### Task\n",
    "Consider a multiperiod binomial asset model for an FX spot rate S with N periods. Under this particular model, we have the following assumptions:\n",
    "\n",
    "· the initial price of the asset is 𝑆0=1.28065;\n",
    "\n",
    "· under the risk-neutral measure, the asset price at period j is 𝑆𝑗=(1+𝑣)𝑆𝑗−1 with probability ½, and 𝑆𝑗=(1−𝑣)𝑆𝑗−1 with probability ½, with 0<𝑣<1; and\n",
    "\n",
    "· domestic and foreign interest rates associated with borrowing/lending a currency for a single time period is 0."
   ]
  },
  {
   "cell_type": "markdown",
   "id": "f71380c5",
   "metadata": {},
   "source": [
    "The initial price of the asset is 1.28065"
   ]
  },
  {
   "cell_type": "markdown",
   "id": "8a0ba585",
   "metadata": {},
   "source": [
    "Assumptions"
   ]
  },
  {
   "cell_type": "markdown",
   "id": "9d2dc5ee",
   "metadata": {},
   "source": [
    "Under the risk neutral meausre, the asseet price at period j is S_j = (1+v) * S_(j-1) and S_j =(1-v) * S_(j-1), each with 0.5 probability. \n",
    "\n",
    "Under these asssumption, there is at period j an up and down scenarios which can be denoted as:\n",
    "u = (1+v)\n",
    "d = (1-v)\n",
    "each with 0.5 probability. \n",
    "\n",
    "S_j = (S_(j-1) * (u * 0.5)) + (S_(j-1) * (d * 0.5))"
   ]
  },
  {
   "cell_type": "markdown",
   "id": "a52cdf64",
   "metadata": {},
   "source": [
    "# import libraries"
   ]
  },
  {
   "cell_type": "code",
   "execution_count": 583,
   "id": "1bf5d6b6",
   "metadata": {},
   "outputs": [],
   "source": [
    "%run Functions.ipynb\n",
    "import pandas as pd\n",
    "import numpy as np\n",
    "from scipy.stats import norm\n",
    "from datetime import date\n",
    "from numpy_financial import irr\n"
   ]
  },
  {
   "cell_type": "markdown",
   "id": "d5564727",
   "metadata": {},
   "source": [
    "Defines values"
   ]
  },
  {
   "cell_type": "code",
   "execution_count": 581,
   "id": "21fa5631",
   "metadata": {},
   "outputs": [],
   "source": [
    "# input\n",
    "S0 = 1.28065\n",
    "u = (1+v)\n",
    "d = (1-v)\n",
    "p = 0.5"
   ]
  },
  {
   "cell_type": "code",
   "execution_count": 584,
   "id": "20902bb2",
   "metadata": {},
   "outputs": [],
   "source": [
    "N = 10\n",
    "v = 0.05"
   ]
  },
  {
   "cell_type": "code",
   "execution_count": 524,
   "id": "e5b1d58f",
   "metadata": {},
   "outputs": [],
   "source": [
    "# Calculate the FX spot\n",
    "S = [S0 * u ** j * d ** (N - j) for j in range(N + 1)]\n",
    "# Calculate the option value \n",
    "option_payoff = [max(K - S[j], 0) for j in range(N + 1)] "
   ]
  },
  {
   "cell_type": "code",
   "execution_count": 592,
   "id": "6f64a694",
   "metadata": {},
   "outputs": [
    {
     "data": {
      "text/plain": [
       "1.8978197201902203"
      ]
     },
     "execution_count": 592,
     "metadata": {},
     "output_type": "execute_result"
    }
   ],
   "source": [
    "maxS(v = v, N = N)"
   ]
  },
  {
   "cell_type": "code",
   "execution_count": 677,
   "id": "72a48889",
   "metadata": {},
   "outputs": [],
   "source": [
    "# Function to simulate GBPUSD FX spot rate paths\n",
    "def simulate_fx_spot_rate_paths(N, v, num_paths):\n",
    "    u = 1 + v\n",
    "    d = 1 - v\n",
    "    \n",
    "    # Initialize array to store simulated FX spot rate paths\n",
    "    fx_spot_rate_paths = np.zeros((num_paths, N+1))\n",
    "    \n",
    "    # Simulate FX spot rate paths\n",
    "    for i in range(num_paths):\n",
    "        fx_spot_rate = 1.28065  # Initial GBPUSD FX spot rate\n",
    "        for j in range(N+1):\n",
    "            fx_spot_rate_paths[i][j] = fx_spot_rate\n",
    "            fx_spot_rate *= np.random.choice([u, d], p=[0.5, 0.5])\n",
    "    \n",
    "    return fx_spot_rate_paths"
   ]
  },
  {
   "cell_type": "code",
   "execution_count": 678,
   "id": "631e509d",
   "metadata": {},
   "outputs": [],
   "source": [
    "# Given parameters\n",
    "N = 10  # Number of periods\n",
    "v = 0.05  # Price movement factor\n",
    "num_paths = 6  # Number of simulated paths\n",
    "\n",
    "# Simulate FX spot rate paths\n",
    "fx_spot_rate_paths = simulate_fx_spot_rate_paths(N, v,num_paths)"
   ]
  },
  {
   "cell_type": "markdown",
   "id": "5f812221",
   "metadata": {},
   "source": [
    "4. Using the GBPUSD FX spot rate paths, derived from the above binomial model for 𝑁=10 (Δτ=0.5 years),𝑣=0.05, convert the GBP cashflows (provided in the cashflow data spreadsheet) into fund currency (USD) and calculate the IRR (internal rate of return) for each of the paths. Plot the distribution of the IRR values."
   ]
  },
  {
   "cell_type": "code",
   "execution_count": 679,
   "id": "426da658",
   "metadata": {},
   "outputs": [
    {
     "data": {
      "text/html": [
       "<div>\n",
       "<style scoped>\n",
       "    .dataframe tbody tr th:only-of-type {\n",
       "        vertical-align: middle;\n",
       "    }\n",
       "\n",
       "    .dataframe tbody tr th {\n",
       "        vertical-align: top;\n",
       "    }\n",
       "\n",
       "    .dataframe thead th {\n",
       "        text-align: right;\n",
       "    }\n",
       "</style>\n",
       "<table border=\"1\" class=\"dataframe\">\n",
       "  <thead>\n",
       "    <tr style=\"text-align: right;\">\n",
       "      <th></th>\n",
       "      <th>Time</th>\n",
       "      <th>Fund</th>\n",
       "      <th>Cashflow Type</th>\n",
       "      <th>Cashflow Amount (in Local Asset Currecny)</th>\n",
       "      <th>Local Asset Currency</th>\n",
       "      <th>Fund Currency</th>\n",
       "      <th>Base Case IRR</th>\n",
       "    </tr>\n",
       "  </thead>\n",
       "  <tbody>\n",
       "    <tr>\n",
       "      <th>0</th>\n",
       "      <td>2024-03-31</td>\n",
       "      <td>Validus V</td>\n",
       "      <td>Equity</td>\n",
       "      <td>-100000000</td>\n",
       "      <td>GBP</td>\n",
       "      <td>USD</td>\n",
       "      <td>0.149925</td>\n",
       "    </tr>\n",
       "    <tr>\n",
       "      <th>1</th>\n",
       "      <td>2025-03-31</td>\n",
       "      <td>Validus V</td>\n",
       "      <td>Proceeds</td>\n",
       "      <td>15000000</td>\n",
       "      <td>GBP</td>\n",
       "      <td>USD</td>\n",
       "      <td>NaN</td>\n",
       "    </tr>\n",
       "    <tr>\n",
       "      <th>2</th>\n",
       "      <td>2026-03-31</td>\n",
       "      <td>Validus V</td>\n",
       "      <td>Proceeds</td>\n",
       "      <td>15000000</td>\n",
       "      <td>GBP</td>\n",
       "      <td>USD</td>\n",
       "      <td>NaN</td>\n",
       "    </tr>\n",
       "    <tr>\n",
       "      <th>3</th>\n",
       "      <td>2027-03-31</td>\n",
       "      <td>Validus V</td>\n",
       "      <td>Proceeds</td>\n",
       "      <td>15000000</td>\n",
       "      <td>GBP</td>\n",
       "      <td>USD</td>\n",
       "      <td>NaN</td>\n",
       "    </tr>\n",
       "    <tr>\n",
       "      <th>4</th>\n",
       "      <td>2028-03-31</td>\n",
       "      <td>Validus V</td>\n",
       "      <td>Proceeds</td>\n",
       "      <td>15000000</td>\n",
       "      <td>GBP</td>\n",
       "      <td>USD</td>\n",
       "      <td>NaN</td>\n",
       "    </tr>\n",
       "    <tr>\n",
       "      <th>5</th>\n",
       "      <td>2029-03-31</td>\n",
       "      <td>Validus V</td>\n",
       "      <td>Proceeds</td>\n",
       "      <td>115000000</td>\n",
       "      <td>GBP</td>\n",
       "      <td>USD</td>\n",
       "      <td>NaN</td>\n",
       "    </tr>\n",
       "  </tbody>\n",
       "</table>\n",
       "</div>"
      ],
      "text/plain": [
       "        Time       Fund Cashflow Type  \\\n",
       "0 2024-03-31  Validus V        Equity   \n",
       "1 2025-03-31  Validus V      Proceeds   \n",
       "2 2026-03-31  Validus V      Proceeds   \n",
       "3 2027-03-31  Validus V      Proceeds   \n",
       "4 2028-03-31  Validus V      Proceeds   \n",
       "5 2029-03-31  Validus V      Proceeds   \n",
       "\n",
       "   Cashflow Amount (in Local Asset Currecny) Local Asset Currency  \\\n",
       "0                                 -100000000                  GBP   \n",
       "1                                   15000000                  GBP   \n",
       "2                                   15000000                  GBP   \n",
       "3                                   15000000                  GBP   \n",
       "4                                   15000000                  GBP   \n",
       "5                                  115000000                  GBP   \n",
       "\n",
       "  Fund Currency  Base Case IRR  \n",
       "0           USD       0.149925  \n",
       "1           USD            NaN  \n",
       "2           USD            NaN  \n",
       "3           USD            NaN  \n",
       "4           USD            NaN  \n",
       "5           USD            NaN  "
      ]
     },
     "execution_count": 679,
     "metadata": {},
     "output_type": "execute_result"
    }
   ],
   "source": [
    "# load excel sheet with cash flow information\n",
    "file_name =  'Quantitative_Analyst_Case_Study_2024_Cashflow_Model.xlsx'\n",
    "df = pd.read_excel(file_name)\n",
    "df\n"
   ]
  },
  {
   "cell_type": "code",
   "execution_count": 680,
   "id": "89b3f0a7",
   "metadata": {},
   "outputs": [],
   "source": [
    "# calculate irr based on different path\n",
    "results = [df['Base Case IRR'][0]]\n",
    "df['time'] = df.index"
   ]
  },
  {
   "cell_type": "code",
   "execution_count": 681,
   "id": "666653ff",
   "metadata": {},
   "outputs": [
    {
     "name": "stderr",
     "output_type": "stream",
     "text": [
      "/var/folders/gc/3nx2jxd91p9crs2vh_4k6ldw0000gn/T/ipykernel_34656/1094355272.py:5: UserWarning: You are merging on int and float columns where the float values are not equal to their int representation.\n",
      "  inner_join_df = pd.merge(df, df1, on='time', how='inner')\n",
      "/var/folders/gc/3nx2jxd91p9crs2vh_4k6ldw0000gn/T/ipykernel_34656/1094355272.py:5: UserWarning: You are merging on int and float columns where the float values are not equal to their int representation.\n",
      "  inner_join_df = pd.merge(df, df1, on='time', how='inner')\n",
      "/var/folders/gc/3nx2jxd91p9crs2vh_4k6ldw0000gn/T/ipykernel_34656/1094355272.py:5: UserWarning: You are merging on int and float columns where the float values are not equal to their int representation.\n",
      "  inner_join_df = pd.merge(df, df1, on='time', how='inner')\n",
      "/var/folders/gc/3nx2jxd91p9crs2vh_4k6ldw0000gn/T/ipykernel_34656/1094355272.py:5: UserWarning: You are merging on int and float columns where the float values are not equal to their int representation.\n",
      "  inner_join_df = pd.merge(df, df1, on='time', how='inner')\n",
      "/var/folders/gc/3nx2jxd91p9crs2vh_4k6ldw0000gn/T/ipykernel_34656/1094355272.py:5: UserWarning: You are merging on int and float columns where the float values are not equal to their int representation.\n",
      "  inner_join_df = pd.merge(df, df1, on='time', how='inner')\n",
      "/var/folders/gc/3nx2jxd91p9crs2vh_4k6ldw0000gn/T/ipykernel_34656/1094355272.py:5: UserWarning: You are merging on int and float columns where the float values are not equal to their int representation.\n",
      "  inner_join_df = pd.merge(df, df1, on='time', how='inner')\n"
     ]
    }
   ],
   "source": [
    "for i in df.index:\n",
    "    df1 = pd.DataFrame({'path': fx_spot_rate_paths[i],\n",
    "                        \"time\": np.arange(0, 5.5, 0.5)})\n",
    "    \n",
    "    inner_join_df = pd.merge(df, df1, on='time', how='inner')\n",
    "    cashflow = inner_join_df['Cashflow Amount (in Local Asset Currecny)']*inner_join_df['path']\n",
    "\n",
    "    irr_value = irr(cashflow)\n",
    "    results.append(irr_value)"
   ]
  },
  {
   "cell_type": "code",
   "execution_count": 682,
   "id": "08be8487",
   "metadata": {},
   "outputs": [
    {
     "data": {
      "image/png": "[encoded data removed]",
      "text/plain": [
       "<Figure size 640x480 with 1 Axes>"
      ]
     },
     "metadata": {},
     "output_type": "display_data"
    }
   ],
   "source": [
    "# Plot the values\n",
    "plt.plot(results, marker='o', linestyle='-')\n",
    "\n",
    "# Add labels and title\n",
    "plt.xlabel('Time')\n",
    "plt.ylabel('IRR')\n",
    "plt.title('IRR plot')\n",
    "\n",
    "# Show the plot\n",
    "plt.show()\n"
   ]
  },
  {
   "cell_type": "markdown",
   "id": "72e14593",
   "metadata": {},
   "source": [
    "Assume we would like to buy a GBPUSD European put option to hedge our FX exposure. If the USD and GBP interest rates are 0% throughout the time horizon of the fund, calculate the option’s fair market value (premium) at trade date (t = 0). See the option details below:\n",
    "\n",
    "· Trade date: 31/03/2024\n",
    "\n",
    "· Expiry Date: 31/03/2029\n",
    "\n",
    "· Notional Amount: 100,000,000 GBP\n",
    "\n",
    "· Strike 𝐾=𝑆0=1.28065\n"
   ]
  },
  {
   "cell_type": "code",
   "execution_count": 683,
   "id": "c2f0dd84",
   "metadata": {},
   "outputs": [
    {
     "name": "stdout",
     "output_type": "stream",
     "text": [
      "The value of the option in GDP is 36522993.14\n"
     ]
    }
   ],
   "source": [
    "notional = 100000000\n",
    "premium = V * notional\n",
    "print(f'The value of the option in GDP is', round(premium, 2)) \n"
   ]
  },
  {
   "cell_type": "code",
   "execution_count": 667,
   "id": "3c2ab686",
   "metadata": {},
   "outputs": [
    {
     "data": {
      "text/html": [
       "<div>\n",
       "<style scoped>\n",
       "    .dataframe tbody tr th:only-of-type {\n",
       "        vertical-align: middle;\n",
       "    }\n",
       "\n",
       "    .dataframe tbody tr th {\n",
       "        vertical-align: top;\n",
       "    }\n",
       "\n",
       "    .dataframe thead th {\n",
       "        text-align: right;\n",
       "    }\n",
       "</style>\n",
       "<table border=\"1\" class=\"dataframe\">\n",
       "  <thead>\n",
       "    <tr style=\"text-align: right;\">\n",
       "      <th></th>\n",
       "      <th>Time</th>\n",
       "      <th>Fund</th>\n",
       "      <th>Cashflow Type</th>\n",
       "      <th>Cashflow Amount (in Local Asset Currecny)</th>\n",
       "      <th>Local Asset Currency</th>\n",
       "      <th>Fund Currency</th>\n",
       "      <th>Base Case IRR</th>\n",
       "      <th>time</th>\n",
       "    </tr>\n",
       "  </thead>\n",
       "  <tbody>\n",
       "    <tr>\n",
       "      <th>0</th>\n",
       "      <td>2024-03-31</td>\n",
       "      <td>Validus V</td>\n",
       "      <td>Equity</td>\n",
       "      <td>-100000000</td>\n",
       "      <td>GBP</td>\n",
       "      <td>USD</td>\n",
       "      <td>0.149925</td>\n",
       "      <td>0</td>\n",
       "    </tr>\n",
       "    <tr>\n",
       "      <th>1</th>\n",
       "      <td>2025-03-31</td>\n",
       "      <td>Validus V</td>\n",
       "      <td>Proceeds</td>\n",
       "      <td>15000000</td>\n",
       "      <td>GBP</td>\n",
       "      <td>USD</td>\n",
       "      <td>NaN</td>\n",
       "      <td>1</td>\n",
       "    </tr>\n",
       "    <tr>\n",
       "      <th>2</th>\n",
       "      <td>2026-03-31</td>\n",
       "      <td>Validus V</td>\n",
       "      <td>Proceeds</td>\n",
       "      <td>15000000</td>\n",
       "      <td>GBP</td>\n",
       "      <td>USD</td>\n",
       "      <td>NaN</td>\n",
       "      <td>2</td>\n",
       "    </tr>\n",
       "    <tr>\n",
       "      <th>3</th>\n",
       "      <td>2027-03-31</td>\n",
       "      <td>Validus V</td>\n",
       "      <td>Proceeds</td>\n",
       "      <td>15000000</td>\n",
       "      <td>GBP</td>\n",
       "      <td>USD</td>\n",
       "      <td>NaN</td>\n",
       "      <td>3</td>\n",
       "    </tr>\n",
       "    <tr>\n",
       "      <th>4</th>\n",
       "      <td>2028-03-31</td>\n",
       "      <td>Validus V</td>\n",
       "      <td>Proceeds</td>\n",
       "      <td>15000000</td>\n",
       "      <td>GBP</td>\n",
       "      <td>USD</td>\n",
       "      <td>NaN</td>\n",
       "      <td>4</td>\n",
       "    </tr>\n",
       "    <tr>\n",
       "      <th>5</th>\n",
       "      <td>2029-03-31</td>\n",
       "      <td>Validus V</td>\n",
       "      <td>Proceeds</td>\n",
       "      <td>115000000</td>\n",
       "      <td>GBP</td>\n",
       "      <td>USD</td>\n",
       "      <td>NaN</td>\n",
       "      <td>5</td>\n",
       "    </tr>\n",
       "  </tbody>\n",
       "</table>\n",
       "</div>"
      ],
      "text/plain": [
       "        Time       Fund Cashflow Type  \\\n",
       "0 2024-03-31  Validus V        Equity   \n",
       "1 2025-03-31  Validus V      Proceeds   \n",
       "2 2026-03-31  Validus V      Proceeds   \n",
       "3 2027-03-31  Validus V      Proceeds   \n",
       "4 2028-03-31  Validus V      Proceeds   \n",
       "5 2029-03-31  Validus V      Proceeds   \n",
       "\n",
       "   Cashflow Amount (in Local Asset Currecny) Local Asset Currency  \\\n",
       "0                                 -100000000                  GBP   \n",
       "1                                   15000000                  GBP   \n",
       "2                                   15000000                  GBP   \n",
       "3                                   15000000                  GBP   \n",
       "4                                   15000000                  GBP   \n",
       "5                                  115000000                  GBP   \n",
       "\n",
       "  Fund Currency  Base Case IRR  time  \n",
       "0           USD       0.149925     0  \n",
       "1           USD            NaN     1  \n",
       "2           USD            NaN     2  \n",
       "3           USD            NaN     3  \n",
       "4           USD            NaN     4  \n",
       "5           USD            NaN     5  "
      ]
     },
     "execution_count": 667,
     "metadata": {},
     "output_type": "execute_result"
    }
   ],
   "source": [
    "df"
   ]
  },
  {
   "cell_type": "markdown",
   "id": "a0292a1c",
   "metadata": {},
   "source": [
    "6. Calculate the IRR of the hedged portfolio, including the option premium payment you calculated in (5) and the option payoff. Plot the distribution of the hedged portfolio IRR values."
   ]
  },
  {
   "cell_type": "code",
   "execution_count": 770,
   "id": "bb1e4f58",
   "metadata": {},
   "outputs": [],
   "source": [
    "# Convert the cash flow amounts to USD\n",
    "df['Cashflow Amount (in USD)'] = df['Cashflow Amount (in Local Asset Currecny)'] * S0"
   ]
  },
  {
   "cell_type": "code",
   "execution_count": 772,
   "id": "bf66c81b",
   "metadata": {},
   "outputs": [],
   "source": [
    "cashflows = df['Cashflow Amount (in USD)'] + premium + option_payoff\n",
    "irr_value = irr(cashflows)"
   ]
  },
  {
   "cell_type": "code",
   "execution_count": 788,
   "id": "ca826562",
   "metadata": {},
   "outputs": [
    {
     "name": "stdout",
     "output_type": "stream",
     "text": [
      "The IRR of the hedged portfolio is 0.3463674162783863\n"
     ]
    }
   ],
   "source": [
    "irr_value\n",
    "\n",
    "print('The IRR of the hedged portfolio is' , irr_value)"
   ]
  },
  {
   "cell_type": "code",
   "execution_count": 789,
   "id": "56ad64bc",
   "metadata": {},
   "outputs": [
    {
     "data": {
      "image/png": "[encoded data removed]",
      "text/plain": [
       "<Figure size 640x480 with 1 Axes>"
      ]
     },
     "metadata": {},
     "output_type": "display_data"
    }
   ],
   "source": [
    "# Plot the distribution of IRR values\n",
    "plt.hist(results, bins=3, color='green', edgecolor='black')\n",
    "plt.xlabel('IRR')\n",
    "plt.ylabel('Frequency')\n",
    "plt.title('Distribution of Hedged Portfolio IRR Values')\n",
    "plt.show()"
   ]
  }
 ],
 "metadata": {
  "kernelspec": {
   "display_name": "Python 3 (ipykernel)",
   "language": "python",
   "name": "python3"
  },
  "language_info": {
   "codemirror_mode": {
    "name": "ipython",
    "version": 3
   },
   "file_extension": ".py",
   "mimetype": "text/x-python",
   "name": "python",
   "nbconvert_exporter": "python",
   "pygments_lexer": "ipython3",
   "version": "3.9.6"
  }
 },
 "nbformat": 4,
 "nbformat_minor": 5
}
