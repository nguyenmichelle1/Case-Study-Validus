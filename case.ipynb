{
 "cells": [
  {
   "cell_type": "markdown",
   "id": "cb0bcbe4",
   "metadata": {},
   "source": [
    "# Qantitative Analyst Case Study\n",
    "## Validus"
   ]
  },
  {
   "cell_type": "markdown",
   "id": "d9c376b0",
   "metadata": {},
   "source": [
    "#### Assumptions\n",
    "Consider a multiperiod binomial asset model for an FX spot rate S with N periods. Under this particular model, we have the following assumptions:\n",
    "\n",
    "· the initial price of the asset is 𝑆0=1.28065;\n",
    "\n",
    "· under the risk-neutral measure, the asset price at period j is 𝑆𝑗=(1+𝑣)𝑆𝑗−1 with probability ½, and 𝑆𝑗=(1−𝑣)𝑆𝑗−1 with probability ½, with 0<𝑣<1; and\n",
    "\n",
    "· domestic and foreign interest rates associated with borrowing/lending a currency for a single time period is 0."
   ]
  },
  {
   "cell_type": "markdown",
   "id": "b12faed1",
   "metadata": {},
   "source": [
    "1. Implement a function which, given v and the strike K of a European put option on the asset S, expiring after N periods, returns its value V."
   ]
  },
  {
   "cell_type": "code",
   "execution_count": null,
   "id": "ad59324b",
   "metadata": {},
   "outputs": [],
   "source": [
    "def european_put_option(S, v, K, N):\n",
    "       \"\"\"\n",
    "        Valuation of a European put option on asset S\n",
    "\n",
    "        Parameters:\n",
    "        - S: Initial price of asset \n",
    "        - v: risk free rate\n",
    "        - K: Strike price\n",
    "        - N: Periods\n",
    "        \n",
    "        Returns: Value of option\n",
    "        \n",
    "        Author: Michelle\n",
    "        \"\"\"\n",
    "        ## To calculate todays prices we use risk neutral probabilities under risk neutral measure\n",
    "        u = (1+v) # up state\n",
    "        d = (1-v) # down state\n",
    "        p = 0.5 # probability\n",
    "        \n",
    "        # Calculate the asset prices at each period\n",
    "        S = [S0 * u ** j * d ** (N - j) for j in range(N + 1)]\n",
    "\n",
    "        # Calculate the option value at expiration\n",
    "        V = [max(K - S[j], 0) for j in range(N + 1)] # value of put is strike - stock price\n",
    "\n",
    "        # Calculate the option values at earlier periods\n",
    "        for i in range(N - 1, -1, -1):\n",
    "            for j in range(i + 1):\n",
    "                V[j] = (p * V[j] + (1 - p) * V[j + 1]) / (1 + v)\n",
    "                S[j] = (1 + v) * S[j]\n",
    "            del V[-1]\n",
    "\n",
    "    return V[0]"
   ]
  },
  {
   "cell_type": "markdown",
   "id": "cb6c59f9",
   "metadata": {},
   "source": [
    "2. Implement a function which, given the strike K and value V of a European put option on the asset S, expiring after N periods, calibrates v to match this price."
   ]
  },
  {
   "cell_type": "code",
   "execution_count": null,
   "id": "0fded28c",
   "metadata": {},
   "outputs": [],
   "source": [
    "def calibrate_v(K, V, N, S0):\n",
    "    # Define the parameters for the multiperiod binomial asset model\n",
    "    p = 0.5  # risk-neutral probability\n",
    "    a = 0.0001  # lower bound of v\n",
    "    b = 0.9999  # upper bound of v\n",
    "    tol = 0.0001  # tolerance for convergence\n",
    "\n",
    "    # Define the function to be solved\n",
    "    def f(v):\n",
    "        u = 1 + v\n",
    "        d = 1 - v\n",
    "        S = [S0 * u ** j * d ** (N - j) for j in range(N + 1)]\n",
    "        V_cal = [max(K - S[j], 0) for j in range(N + 1)]\n",
    "        for i in range(N - 1, -1, -1):\n",
    "            for j in range(i + 1):\n",
    "                V_cal[j] = (p * V_cal[j] + (1 - p) * V_cal[j + 1]) / (1 + r)\n",
    "                S[j] = (1 + v) * S[j]\n",
    "            del V_cal[-1]\n",
    "        return V_cal[0] - V\n",
    "\n",
    "    # Use the bisection method to find the value of v that matches the option value\n",
    "    while b - a > tol:\n",
    "        c = (a + b) / 2\n",
    "        if f(c) == 0:\n",
    "            return c\n",
    "        elif f(a) * f(c) < 0:\n",
    "            b = c\n",
    "        else:\n",
    "            a = c\n",
    "\n",
    "    return (a + b) / 2"
   ]
  },
  {
   "cell_type": "markdown",
   "id": "71d3429f",
   "metadata": {},
   "source": [
    "3. Implement a function which, given v, returns the expectation of max0≤𝑗≤𝑁𝑆𝑗."
   ]
  },
  {
   "cell_type": "code",
   "execution_count": 5,
   "id": "beb7b032",
   "metadata": {},
   "outputs": [],
   "source": [
    "def expectation_max_fx(v, N):\n",
    "    # Define the parameters for the multiperiod binomial asset model\n",
    "    S0 = 1.28065  # initial price of the asset\n",
    "    u = 1 + v  # up factor\n",
    "    d = 1 - v  # down factor\n",
    "    p = 0.5  # risk-neutral probability\n",
    "\n",
    "    # Calculate the asset prices at each period\n",
    "    S = [S0 * u ** j * d ** (N - j) for j in range(N + 1)]\n",
    "\n",
    "    # Calculate the maximum asset value over all periods\n",
    "    max_S = max(S)\n",
    "\n",
    "    # Calculate the expectation of the maximum asset value\n",
    "    exp_max_S = max_S\n",
    "    \n",
    "    for i in range(N):\n",
    "        exp_max_S = (p * max(u ** (N - i - 1) * S[i], d ** (N - i - 1) * S[i + 1]) +\n",
    "                     (1 - p) * exp_max_S) / (1 + r)\n",
    "\n",
    "    return exp_max_S"
   ]
  },
  {
   "cell_type": "markdown",
   "id": "5f812221",
   "metadata": {},
   "source": [
    "4. Using the GBPUSD FX spot rate paths, derived from the above binomial model for 𝑁=10 (Δτ=0.5 years),𝑣=0.05, convert the GBP cashflows (provided in the cashflow data spreadsheet) into fund currency (USD) and calculate the IRR (internal rate of return) for each of the paths. Plot the distribution of the IRR values."
   ]
  },
  {
   "cell_type": "code",
   "execution_count": 6,
   "id": "b938ea96",
   "metadata": {},
   "outputs": [
    {
     "data": {
      "text/plain": [
       "1.8978197201902203"
      ]
     },
     "execution_count": 6,
     "metadata": {},
     "output_type": "execute_result"
    }
   ],
   "source": [
    "expectation_max_fx(v = 0.05, \n",
    "                  N = 10)"
   ]
  },
  {
   "cell_type": "markdown",
   "id": "72e14593",
   "metadata": {},
   "source": [
    "Assume we would like to buy a GBPUSD European put option to hedge our FX exposure. If the USD and GBP interest rates are 0% throughout the time horizon of the fund, calculate the option’s fair market value (premium) at trade date (t = 0). See the option details below:\n",
    "\n",
    "· Trade date: 31/03/2024\n",
    "\n",
    "· Expiry Date: 31/03/2029\n",
    "\n",
    "· Notional Amount: 100,000,000 GBP\n",
    "\n",
    "· Strike 𝐾=𝑆0=1.28065\n"
   ]
  },
  {
   "cell_type": "code",
   "execution_count": 4,
   "id": "c2f0dd84",
   "metadata": {},
   "outputs": [
    {
     "name": "stdout",
     "output_type": "stream",
     "text": [
      "The fair market value of the put option at time t = 0 is: 17060929.17 GBP\n"
     ]
    }
   ],
   "source": [
    "import numpy as np\n",
    "from scipy.stats import norm\n",
    "from datetime import date\n",
    "\n",
    "# Define the option parameters\n",
    "S0 = 1.28065  # spot price of GBPUSD on trade date\n",
    "K = S0  # strike price\n",
    "T = (date(2029, 3, 31) - date(2024, 3, 31)).days / 365  # time to expiry in years\n",
    "r = 0  # risk-free interest rate\n",
    "sigma = 0.15  # volatility of GBPUSD\n",
    "notional = 100000000 \n",
    "\n",
    "# Calculate the option value using the Black-Scholes model\n",
    "d1 = (np.log(S0 / K) + (r + 0.5 * sigma ** 2) * T) / (sigma * np.sqrt(T))\n",
    "d2 = d1 - sigma * np.sqrt(T)\n",
    "V = K * np.exp(-r * T) * norm.cdf(-d2) - S0 * norm.cdf(-d1)\n",
    "\n",
    "# Convert the option value to GBP\n",
    "premium = V * notional\n",
    "\n",
    "print(\"The fair market value of the put option at time t = 0 is:\", round(premium, 2), \"GBP\")"
   ]
  },
  {
   "cell_type": "markdown",
   "id": "a0292a1c",
   "metadata": {},
   "source": [
    "6. Calculate the IRR of the hedged portfolio, including the option premium payment you calculated in (5) and the option payoff. Plot the distribution of the hedged portfolio IRR values."
   ]
  },
  {
   "cell_type": "code",
   "execution_count": null,
   "id": "990079e3",
   "metadata": {},
   "outputs": [],
   "source": []
  }
 ],
 "metadata": {
  "kernelspec": {
   "display_name": "Python 3 (ipykernel)",
   "language": "python",
   "name": "python3"
  },
  "language_info": {
   "codemirror_mode": {
    "name": "ipython",
    "version": 3
   },
   "file_extension": ".py",
   "mimetype": "text/x-python",
   "name": "python",
   "nbconvert_exporter": "python",
   "pygments_lexer": "ipython3",
   "version": "3.9.13"
  }
 },
 "nbformat": 4,
 "nbformat_minor": 5
}
